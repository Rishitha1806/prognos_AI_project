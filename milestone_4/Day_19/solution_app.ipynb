{
  "nbformat": 4,
  "nbformat_minor": 0,
  "metadata": {
    "colab": {
      "provenance": []
    },
    "kernelspec": {
      "name": "python3",
      "display_name": "Python 3"
    },
    "language_info": {
      "name": "python"
    }
  },
  "cells": [
    {
      "cell_type": "code",
      "execution_count": 2,
      "metadata": {
        "id": "4mKBd6Rats8L",
        "colab": {
          "base_uri": "https://localhost:8080/"
        },
        "outputId": "1e766b99-905e-4983-9844-6c40c1e34217"
      },
      "outputs": [
        {
          "output_type": "stream",
          "name": "stdout",
          "text": [
            "\u001b[2K   \u001b[90m━━━━━━━━━━━━━━━━━━━━━━━━━━━━━━━━━━━━━━━━\u001b[0m \u001b[32m10.1/10.1 MB\u001b[0m \u001b[31m74.6 MB/s\u001b[0m eta \u001b[36m0:00:00\u001b[0m\n",
            "\u001b[2K   \u001b[90m━━━━━━━━━━━━━━━━━━━━━━━━━━━━━━━━━━━━━━━━\u001b[0m \u001b[32m6.9/6.9 MB\u001b[0m \u001b[31m108.5 MB/s\u001b[0m eta \u001b[36m0:00:00\u001b[0m\n",
            "\u001b[?25h"
          ]
        }
      ],
      "source": [
        "# 1. Install required libraries\n",
        "!pip install streamlit scikit-learn pandas numpy joblib pyngrok -q\n",
        "\n",
        "# 2. Setup ngrok (Necessary for viewing the Streamlit app outside Colab's internal environment)\n",
        "# You need a free ngrok account to get an authentication token.\n",
        "# Replace 'YOUR_NGROK_AUTH_TOKEN' with your actual token.\n",
        "# If you don't have one, just run this cell and follow the link to sign up.\n",
        "# from pyngrok import ngrok\n",
        "# ngrok.set_auth_token(\"YOUR_NGROK_AUTH_TOKEN\")"
      ]
    },
    {
      "cell_type": "code",
      "source": [
        "# 2. Write the app.py content to a file\n",
        "# The %%writefile magic command creates the app.py file in the Colab filesystem\n",
        "%%writefile app.py\n",
        "import streamlit as st\n",
        "import time\n",
        "\n",
        "# --- Content Display ---\n",
        "st.title('This is a Title')\n",
        "st.header('This is a Header')\n",
        "st.subheader('This is a Subheader')\n",
        "st.text('This is a standard text message.')\n",
        "\n",
        "st.markdown('# Markdown Title\\nSome **bold** and _italic_ text.')\n",
        "st.code('print(\"Hello, Streamlit!\")', language='python')\n",
        "st.latex('e^{i\\\\pi} + 1 = 0')\n",
        "st.write('Write can display various data types including text, numbers, and dataframes')\n",
        "\n",
        "# --- Input Widgets ---\n",
        "if st.button('Click me'):\n",
        "    st.write('Button clicked!')\n",
        "\n",
        "if st.checkbox('Check me'):\n",
        "    st.write('Checkbox is checked')\n",
        "\n",
        "choice = st.radio('Choose one:', ['Option 1', 'Option 2'])\n",
        "st.write(f'You chose {choice}')\n",
        "\n",
        "option = st.selectbox('Select:', ['A', 'B', 'C'])\n",
        "st.write(f'Selected {option}')\n",
        "\n",
        "options = st.multiselect('Select multiple:', ['A', 'B', 'C'])\n",
        "st.write(f'Selected {options}')\n",
        "\n",
        "val = st.slider('Slide me', 0, 100, 25)\n",
        "st.write(f'Slider value {val}')\n",
        "\n",
        "text = st.text_input('Enter text:')\n",
        "st.write(f'Your input: {text}')\n",
        "\n",
        "num = st.number_input('Enter a number:', 0, 100)\n",
        "st.write(f'Number: {num}')\n",
        "\n",
        "date = st.date_input('Pick a date')\n",
        "st.write(f'Date selected: {date}')\n",
        "\n",
        "time_val = st.time_input('Pick a time')\n",
        "st.write(f'Time selected: {time_val}')\n",
        "\n",
        "file = st.file_uploader('Upload file')\n",
        "if file:\n",
        "    st.write(f'Filename: {file.name}')\n",
        "\n",
        "img = st.camera_input('Take a picture')\n",
        "if img:\n",
        "    st.image(img)\n",
        "\n",
        "color = st.color_picker('Pick a color')\n",
        "st.write(f'Color: {color}')\n",
        "\n",
        "# --- Layout and Structure ---\n",
        "col1, col2 = st.columns(2)\n",
        "col1.write('Column 1')\n",
        "col2.write('Column 2')\n",
        "\n",
        "with st.expander('Expand me'):\n",
        "    st.write('Hidden text here')\n",
        "\n",
        "with st.sidebar:\n",
        "    st.write('Sidebar content here')\n",
        "\n",
        "# --- Status and Feedback ---\n",
        "st.balloons()\n",
        "\n",
        "import time\n",
        "with st.spinner('Loading...'):\n",
        "    time.sleep(2)\n",
        "st.write('Done!')\n",
        "\n",
        "progress = st.progress(0)\n",
        "for i in range(100):\n",
        "    progress.progress(i + 1)\n",
        "st.write('Progress complete')\n",
        "\n",
        "st.metric(label='Temperature', value='70 °F', delta='-5 °F')"
      ],
      "metadata": {
        "colab": {
          "base_uri": "https://localhost:8080/"
        },
        "id": "zp1dX8vhyyAn",
        "outputId": "587a5665-87b7-49df-da40-964ce8956f20"
      },
      "execution_count": 3,
      "outputs": [
        {
          "output_type": "stream",
          "name": "stdout",
          "text": [
            "Writing app.py\n"
          ]
        }
      ]
    },
    {
      "cell_type": "code",
      "source": [
        "import os\n",
        "import threading\n",
        "def run_streamlit():\n",
        "  os.system('streamlit run app.py --server.port 8501')\n",
        "thread=threading.Thread(target=run_streamlit)\n",
        "thread.start()"
      ],
      "metadata": {
        "id": "eXxNPjmANP5l"
      },
      "execution_count": 1,
      "outputs": []
    },
    {
      "cell_type": "code",
      "source": [
        "from pyngrok import ngrok\n",
        "import subprocess\n",
        "import time\n",
        "\n",
        "# --- WARNING: NGrok setup (Optional) ---\n",
        "# To avoid frequent connection issues, you may set an ngrok auth token.\n",
        "# ngrok.set_auth_token(\"YOUR_NGROK_AUTH_TOKEN\") # Replace with your token\n",
        "\n",
        "# 1. Start Streamlit server in the background\n",
        "# The command runs app.py on port 8501\n",
        "print(\"Starting Streamlit server...\")\n",
        "proc = subprocess.Popen([\"streamlit\", \"run\", \"app.py\", \"--server.port\", \"8501\", \"--server.headless\", \"true\"])\n",
        "time.sleep(5) # Give the server a few seconds to start\n",
        "\n",
        "# 2. Setup the ngrok tunnel\n",
        "print(\"Creating ngrok tunnel...\")\n",
        "try:\n",
        "    # Connect ngrok to the Streamlit port\n",
        "    ngrok_tunnel = ngrok.connect(8501)\n",
        "    public_url = ngrok_tunnel.public_url\n",
        "\n",
        "    print(f\"\\n--- Streamlit App is Running ---\")\n",
        "    print(f\"Click the link below to access your app:\")\n",
        "    print(f\"Public URL: {public_url}\")\n",
        "    print(f\"-----------------------------------\")\n",
        "\n",
        "except Exception as e:\n",
        "    print(f\"An error occurred with ngrok: {e}\")\n",
        "    # Kill the process if ngrok fails\n",
        "    proc.terminate()\n",
        "    ngrok.kill()"
      ],
      "metadata": {
        "colab": {
          "base_uri": "https://localhost:8080/"
        },
        "id": "EAiDJYw_0BS5",
        "outputId": "47edfb52-97cb-46a9-8a69-0da1114b71ab"
      },
      "execution_count": 4,
      "outputs": [
        {
          "output_type": "stream",
          "name": "stdout",
          "text": [
            "Starting Streamlit server...\n",
            "Creating ngrok tunnel...\n"
          ]
        },
        {
          "output_type": "stream",
          "name": "stderr",
          "text": [
            "ERROR:pyngrok.process.ngrok:t=2025-10-01T14:38:14+0000 lvl=eror msg=\"failed to reconnect session\" obj=tunnels.session err=\"authentication failed: Usage of ngrok requires a verified account and authtoken.\\n\\nSign up for an account: https://dashboard.ngrok.com/signup\\nInstall your authtoken: https://dashboard.ngrok.com/get-started/your-authtoken\\r\\n\\r\\nERR_NGROK_4018\\r\\n\"\n",
            "ERROR:pyngrok.process.ngrok:t=2025-10-01T14:38:14+0000 lvl=eror msg=\"session closing\" obj=tunnels.session err=\"authentication failed: Usage of ngrok requires a verified account and authtoken.\\n\\nSign up for an account: https://dashboard.ngrok.com/signup\\nInstall your authtoken: https://dashboard.ngrok.com/get-started/your-authtoken\\r\\n\\r\\nERR_NGROK_4018\\r\\n\"\n",
            "ERROR:pyngrok.process.ngrok:t=2025-10-01T14:38:14+0000 lvl=eror msg=\"terminating with error\" obj=app err=\"authentication failed: Usage of ngrok requires a verified account and authtoken.\\n\\nSign up for an account: https://dashboard.ngrok.com/signup\\nInstall your authtoken: https://dashboard.ngrok.com/get-started/your-authtoken\\r\\n\\r\\nERR_NGROK_4018\\r\\n\"\n"
          ]
        },
        {
          "output_type": "stream",
          "name": "stdout",
          "text": [
            "An error occurred with ngrok: The ngrok process errored on start: authentication failed: Usage of ngrok requires a verified account and authtoken.\\n\\nSign up for an account: https://dashboard.ngrok.com/signup\\nInstall your authtoken: https://dashboard.ngrok.com/get-started/your-authtoken\\r\\n\\r\\nERR_NGROK_4018\\r\\n.\n"
          ]
        }
      ]
    }
  ]
}