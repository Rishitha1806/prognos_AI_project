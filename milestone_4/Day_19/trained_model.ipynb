{
  "nbformat": 4,
  "nbformat_minor": 0,
  "metadata": {
    "colab": {
      "provenance": []
    },
    "kernelspec": {
      "name": "python3",
      "display_name": "Python 3"
    },
    "language_info": {
      "name": "python"
    }
  },
  "cells": [
    {
      "cell_type": "code",
      "execution_count": 1,
      "metadata": {
        "colab": {
          "base_uri": "https://localhost:8080/"
        },
        "id": "6AJu4W6pqFnA",
        "outputId": "ac6f10a4-96e7-4b01-ff39-32d4ae5cb776"
      },
      "outputs": [
        {
          "output_type": "stream",
          "name": "stdout",
          "text": [
            "Test accuracy: 0.9000\n",
            "Saved model and metadata to /content/iris_rf_model.joblib\n"
          ]
        }
      ],
      "source": [
        "import joblib\n",
        "from sklearn.datasets import load_iris\n",
        "from sklearn.ensemble import RandomForestClassifier\n",
        "from sklearn.model_selection import train_test_split\n",
        "from sklearn.preprocessing import StandardScaler\n",
        "from sklearn.pipeline import make_pipeline\n",
        "import pandas as pd\n",
        "\n",
        "def main(save_path=\"/content/iris_rf_model.joblib\"):\n",
        "    # Load Iris dataset (as a pandas DataFrame)\n",
        "    iris = load_iris(as_frame=True)\n",
        "    X = iris.data\n",
        "    y = iris.target\n",
        "\n",
        "    # Train / test split\n",
        "    X_train, X_test, y_train, y_test = train_test_split(\n",
        "        X, y, test_size=0.2, random_state=42, stratify=y\n",
        "    )\n",
        "\n",
        "    # Pipeline: scaler + RandomForest\n",
        "    clf = make_pipeline(StandardScaler(), RandomForestClassifier(n_estimators=100, random_state=42))\n",
        "\n",
        "    # Fit model\n",
        "    clf.fit(X_train, y_train)\n",
        "\n",
        "    # Evaluate\n",
        "    acc = clf.score(X_test, y_test)\n",
        "    print(f\"Test accuracy: {acc:.4f}\")\n",
        "\n",
        "    # Save model + useful metadata (feature names, target names)\n",
        "    joblib.dump({\n",
        "        'model': clf,\n",
        "        'feature_names': list(X.columns),\n",
        "        'target_names': list(iris.target_names)\n",
        "    }, save_path)\n",
        "\n",
        "    print(f\"Saved model and metadata to {save_path}\")\n",
        "\n",
        "if __name__ == \"__main__\":\n",
        "    main()\n"
      ]
    }
  ]
}